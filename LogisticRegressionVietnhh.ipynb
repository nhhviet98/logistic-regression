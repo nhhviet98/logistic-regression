{
  "nbformat": 4,
  "nbformat_minor": 0,
  "metadata": {
    "colab": {
      "name": "LogisticRegressionVietnhh.ipynb",
      "provenance": [],
      "collapsed_sections": []
    },
    "kernelspec": {
      "display_name": "Python 3",
      "name": "python3"
    }
  },
  "cells": [
    {
      "cell_type": "markdown",
      "metadata": {
        "id": "MxtPZhD4COF2"
      },
      "source": [
        "## Import Libraries"
      ]
    },
    {
      "cell_type": "code",
      "metadata": {
        "id": "TxR4o_eUCKap"
      },
      "source": [
        "from sklearn.metrics import classification_report\r\n",
        "import pickle\r\n",
        "from nltk.tokenize import RegexpTokenizer\r\n",
        "from nltk.corpus import stopwords\r\n",
        "from nltk.stem import PorterStemmer\r\n",
        "from gensim.models import Word2Vec\r\n",
        "from tqdm import tqdm\r\n",
        "import time\r\n",
        "import numpy as np\r\n",
        "import matplotlib.pyplot as plt\r\n",
        "import pandas as pd\r\n",
        "import nltk"
      ],
      "execution_count": null,
      "outputs": []
    },
    {
      "cell_type": "code",
      "metadata": {
        "colab": {
          "base_uri": "https://localhost:8080/"
        },
        "id": "h736ZHnKE1yh",
        "outputId": "885f8411-a195-47b2-84bc-8cdedbdd8c42"
      },
      "source": [
        "nltk.download('stopwords')"
      ],
      "execution_count": null,
      "outputs": [
        {
          "output_type": "stream",
          "text": [
            "[nltk_data] Downloading package stopwords to /root/nltk_data...\n",
            "[nltk_data]   Package stopwords is already up-to-date!\n"
          ],
          "name": "stdout"
        },
        {
          "output_type": "execute_result",
          "data": {
            "text/plain": [
              "True"
            ]
          },
          "metadata": {
            "tags": []
          },
          "execution_count": 2
        }
      ]
    },
    {
      "cell_type": "markdown",
      "metadata": {
        "id": "O_aogdsaCgrW"
      },
      "source": [
        "# My Class"
      ]
    },
    {
      "cell_type": "markdown",
      "metadata": {
        "id": "ghokop3wCl7t"
      },
      "source": [
        "## Process Data Class"
      ]
    },
    {
      "cell_type": "code",
      "metadata": {
        "id": "XEiGHT9oClC_"
      },
      "source": [
        "class ProcessData:\r\n",
        "    def __init__(self):\r\n",
        "        self.x_train = None\r\n",
        "        self.y_train = None\r\n",
        "        self.x_test = None\r\n",
        "        self.y_test = None\r\n",
        "\r\n",
        "    def read_train_csv(self, train_file_path: str):\r\n",
        "        '''\r\n",
        "        read data from file path\r\n",
        "        :param train_file_path: str\r\n",
        "            path of training file\r\n",
        "        :return: list\r\n",
        "            Data of training set\r\n",
        "        '''\r\n",
        "        df_train = pd.read_csv(train_file_path)\r\n",
        "        self.x_train = df_train['message'].to_list()[:]\r\n",
        "        self.y_train = df_train['topic'].to_list()[:]\r\n",
        "        return self.x_train, self.y_train\r\n",
        "\r\n",
        "    def read_test_csv(self, test_file_path: str, labels_test_file_path: str):\r\n",
        "        '''\r\n",
        "        read test data from file path\r\n",
        "        :param test_file_path: str\r\n",
        "            path of input testing path\r\n",
        "        :param labels_test_file_path: str\r\n",
        "            path of output testing path\r\n",
        "        :return: list\r\n",
        "            Data of testing set\r\n",
        "        '''\r\n",
        "        df_test = pd.read_csv(test_file_path)\r\n",
        "        df_label_test = pd.read_csv(labels_test_file_path)\r\n",
        "        self.x_test = df_test['message'].to_list()[:]\r\n",
        "        self.y_test = df_label_test['topic'].to_list()[:]\r\n",
        "        return self.x_test, self.y_test\r\n",
        "\r\n"
      ],
      "execution_count": null,
      "outputs": []
    },
    {
      "cell_type": "markdown",
      "metadata": {
        "id": "VVqEWgemCr9p"
      },
      "source": [
        "## Word Embedding Class"
      ]
    },
    {
      "cell_type": "code",
      "metadata": {
        "id": "UzUzgafBCgBB"
      },
      "source": [
        "class WordEmbedding():\r\n",
        "    def __init__(self):\r\n",
        "        self.stop_words = stopwords.words('english')\r\n",
        "        self.word2vec = None\r\n",
        "        self.all_words = None\r\n",
        "        self.tokenizer = None\r\n",
        "        self.mean = None\r\n",
        "        self.std = None\r\n",
        "\r\n",
        "    @staticmethod\r\n",
        "    def _stemming(data: list) -> list:\r\n",
        "        '''\r\n",
        "        Stemming for training set\r\n",
        "        :param data: list\r\n",
        "            list of sentences in training set\r\n",
        "        :return: list\r\n",
        "            all words after stemming\r\n",
        "        '''\r\n",
        "        poster_stemmer = PorterStemmer()\r\n",
        "        all_words = [[poster_stemmer.stem(word) for word in sentence] for sentence in data]\r\n",
        "        return all_words\r\n",
        "\r\n",
        "    def norm_data(self, x: list) -> np.ndarray:\r\n",
        "        '''\r\n",
        "        Normalize data with mean and std\r\n",
        "        :param x: list\r\n",
        "            Input data\r\n",
        "        :return: np.ndarray\r\n",
        "            Data after normalize\r\n",
        "        '''\r\n",
        "        self.mean = np.mean(x)\r\n",
        "        self.std = np.std(x)\r\n",
        "        return (x - self.mean) / self.std\r\n",
        "\r\n",
        "    def norm_data_test(self, x_test: list) -> np.ndarray:\r\n",
        "        '''\r\n",
        "        Normalize data of test set using mean and std of training set\r\n",
        "        :param x_test: list\r\n",
        "            Input data\r\n",
        "        :return: np.ndarray\r\n",
        "            Test set after normalize\r\n",
        "        '''\r\n",
        "        return (x_test - self.mean) / self.std\r\n",
        "\r\n",
        "    def _vectorized(self, data_list: list) -> list:\r\n",
        "        '''\r\n",
        "        tokenized for sentences in data set\r\n",
        "        :param data_list: list\r\n",
        "            list of data in training set\r\n",
        "        :return: list\r\n",
        "            all words after tokenized\r\n",
        "        '''\r\n",
        "        tokenizer = RegexpTokenizer(r'[a-zA-Z0-9]+')\r\n",
        "        poster_stemmer = PorterStemmer()\r\n",
        "        self.all_words = []\r\n",
        "        for data in tqdm(data_list):\r\n",
        "            data_tokenized = data.lower()\r\n",
        "            data_tokenized = tokenizer.tokenize(data_tokenized)\r\n",
        "            data_tokenized = [poster_stemmer.stem(word) for word in data_tokenized\r\n",
        "                              if word not in self.stop_words and len(word) > 2]\r\n",
        "            self.all_words.append(data_tokenized)\r\n",
        "        return self.all_words\r\n",
        "\r\n",
        "    def _word2vec(self, data_list: list):\r\n",
        "        '''\r\n",
        "        Word to vec for training set using gensim library\r\n",
        "        :param data_list: list\r\n",
        "            list of sentences in training set\r\n",
        "        :return: None\r\n",
        "        '''\r\n",
        "        self.all_words = self._vectorized(data_list)\r\n",
        "        t1 = time.time()\r\n",
        "        self.word2vec = Word2Vec(self.all_words, min_count=5, size=300,\r\n",
        "                                 window=30, workers=10, iter=30)\r\n",
        "        t2 = time.time()\r\n",
        "        print(\"time word2vec\", t2 - t1)\r\n",
        "        for i, data in tqdm(enumerate(self.all_words)):\r\n",
        "            data_tokenized = [word for word in data if word in self.word2vec.wv.index2word]\r\n",
        "            self.all_words[i] = data_tokenized\r\n",
        "\r\n",
        "    def doc2vec(self, data_list: list) -> np.ndarray:\r\n",
        "        '''\r\n",
        "        transform sentences to vector using Word2Vec\r\n",
        "        :param data_list: list\r\n",
        "            List of sentences\r\n",
        "        :return: np.ndarray\r\n",
        "            Vector of all sentences in training set\r\n",
        "        '''\r\n",
        "        self._word2vec(data_list)\r\n",
        "        param_vec = []\r\n",
        "        for param in self.all_words:\r\n",
        "            param_vec.append(np.sum(self.word2vec.wv[param], axis=0)/len(param))\r\n",
        "        param_vec = self.norm_data(param_vec)\r\n",
        "        return param_vec\r\n",
        "\r\n",
        "    def fit_transform(self, x_test):\r\n",
        "        x_test_embedded = []\r\n",
        "        tokenizer = RegexpTokenizer(r'[a-zA-Z0-9]+')\r\n",
        "        poster_stemmer = PorterStemmer()\r\n",
        "        for data in tqdm(x_test):\r\n",
        "            data_tokenized = data.lower()\r\n",
        "            data_tokenized = tokenizer.tokenize(data_tokenized)\r\n",
        "            data_tokenized = [poster_stemmer.stem(word) for word in data_tokenized\r\n",
        "                              if word not in self.stop_words and len(word) > 2]\r\n",
        "            data_tokenized = [word for word in data_tokenized if word in self.word2vec.wv.index2word]\r\n",
        "            x_test_embedded.append(np.sum(self.word2vec.wv[data_tokenized], axis=0)/len(data_tokenized))\r\n",
        "        x_test_embedded = self.norm_data_test(x_test_embedded)\r\n",
        "        return x_test_embedded"
      ],
      "execution_count": null,
      "outputs": []
    },
    {
      "cell_type": "markdown",
      "metadata": {
        "id": "I86qoERyCx9Y"
      },
      "source": [
        "## Logistic Regression Class"
      ]
    },
    {
      "cell_type": "code",
      "metadata": {
        "id": "UTL6qVxZC1uF"
      },
      "source": [
        "class MyLogisticRegression():\r\n",
        "    def __init__(self, max_iter=500, lr=0.00001):\r\n",
        "        self.max_iter = max_iter\r\n",
        "        self.lr = lr\r\n",
        "        self.m = None\r\n",
        "        self.n = None\r\n",
        "        self.w = None\r\n",
        "        self.num_class = None\r\n",
        "        self.y_train_one_hot = None\r\n",
        "\r\n",
        "    @staticmethod\r\n",
        "    def sigmoid(z: np.ndarray) -> np.ndarray:\r\n",
        "        '''\r\n",
        "        sigmoid function\r\n",
        "        :param z:\r\n",
        "        :return: np.ndarray\r\n",
        "        '''\r\n",
        "        return 1/(1 + np.exp(-z))\r\n",
        "\r\n",
        "    @staticmethod\r\n",
        "    def one_hot(y: list, nb_class: int) -> np.ndarray:\r\n",
        "        '''\r\n",
        "        One hot vectors for labels\r\n",
        "        :param y: list\r\n",
        "            List of labels\r\n",
        "        :param nb_class: int\r\n",
        "            Number of class in data set\r\n",
        "        :return:\r\n",
        "        '''\r\n",
        "        y = np.array(y)\r\n",
        "        y_one_hot = np.eye(nb_class)[y]\r\n",
        "        return y_one_hot\r\n",
        "\r\n",
        "    @staticmethod\r\n",
        "    def accuracy_score(y_test: list, y_pred: list) -> float:\r\n",
        "        '''\r\n",
        "        Calculate accuracy of model\r\n",
        "        :param y_test: list\r\n",
        "            Labels of test set\r\n",
        "        :param y_pred:\r\n",
        "            Predicted labels of model\r\n",
        "        :return: float\r\n",
        "            Accuracy of model\r\n",
        "        '''\r\n",
        "        return sum(np.equal(y_test, y_pred)) / len(y_test)\r\n",
        "\r\n",
        "    @staticmethod\r\n",
        "    def plot_loss(total_lost: list):\r\n",
        "        '''\r\n",
        "        Plot loss of training\r\n",
        "        :param total_lost: list of history lost during training\r\n",
        "        :return: None\r\n",
        "        '''\r\n",
        "        plt.figure(figsize=(15, 6))\r\n",
        "        plt.plot(range(len(total_lost)), total_lost)\r\n",
        "        plt.xlabel('epochs')\r\n",
        "        plt.ylabel('loss')\r\n",
        "        plt.show()\r\n",
        "\r\n",
        "    def cost(self, z: np.ndarray) -> float:\r\n",
        "        '''\r\n",
        "        Calculate loss of each epochs\r\n",
        "        :param z: np.ndarray\r\n",
        "            z of model in training phase\r\n",
        "        :return: float\r\n",
        "            Loss of each epochs\r\n",
        "        '''\r\n",
        "        cost = np.sum(-1/self.m*(self.y_train_one_hot*np.log(z) + (1-self.y_train_one_hot)*np.log(1-z)))/self.num_class\r\n",
        "        return cost\r\n",
        "\r\n",
        "    def fit(self, x_train: np.ndarray, y_train: list) -> list:\r\n",
        "        '''\r\n",
        "        Fit data to training\r\n",
        "        :param x_train: np.ndarray\r\n",
        "            Input of training set\r\n",
        "        :param y_train: list\r\n",
        "            Output of training set\r\n",
        "        :return: list\r\n",
        "            History of loss during training\r\n",
        "        '''\r\n",
        "        self.m = x_train.shape[0]\r\n",
        "        self.n = x_train.shape[1]\r\n",
        "        self.num_class = np.max(y_train) + 1\r\n",
        "        self.w = np.zeros((self.num_class, self.n))\r\n",
        "        cost = np.zeros(self.max_iter)\r\n",
        "        self.y_train_one_hot = self.one_hot(y_train, self.num_class)\r\n",
        "        total_lost = []\r\n",
        "        for i in tqdm(range(self.max_iter)):\r\n",
        "            z = self.sigmoid(x_train @ self.w.T)\r\n",
        "            cost = self.cost(z)\r\n",
        "            self.w = self.w + self.lr*(self.y_train_one_hot - z).T @ x_train\r\n",
        "            total_lost.append(cost)\r\n",
        "        return total_lost\r\n",
        "\r\n",
        "    def predict(self, x_test: np.ndarray) -> list:\r\n",
        "        '''\r\n",
        "        Predict labels for test set\r\n",
        "        :param x_test: np.ndarray\r\n",
        "            Input of test set\r\n",
        "        :return:\r\n",
        "            Predicted labels for test set\r\n",
        "        '''\r\n",
        "        z = self.sigmoid(x_test @ self.w.T)\r\n",
        "        y_pred = list(np.argmax(z, axis=1))\r\n",
        "        return y_pred"
      ],
      "execution_count": null,
      "outputs": []
    },
    {
      "cell_type": "markdown",
      "metadata": {
        "id": "GDFq-SgZC6Dt"
      },
      "source": [
        "# Main Code"
      ]
    },
    {
      "cell_type": "markdown",
      "metadata": {
        "id": "zVTKh5GLDDOX"
      },
      "source": [
        "## Init variable"
      ]
    },
    {
      "cell_type": "code",
      "metadata": {
        "id": "sUE8P5YMC7zU"
      },
      "source": [
        "#Initialize\r\n",
        "train_path = \"/content/drive/MyDrive/BAP Colab/LogisticRegression/train.csv\"\r\n",
        "test_path = \"/content/drive/MyDrive/BAP Colab/LogisticRegression/test.csv\"\r\n",
        "labels_test_path = \"/content/drive/MyDrive/BAP Colab/LogisticRegression/solution.csv\"\r\n",
        "MAX_ITER = 2500\r\n",
        "LEARNING_RATE = 0.00001\r\n",
        "SAVE_WORD2VEC = True\r\n",
        "SAVE_MODEL = True"
      ],
      "execution_count": null,
      "outputs": []
    },
    {
      "cell_type": "markdown",
      "metadata": {
        "id": "OT5fpajmDGN1"
      },
      "source": [
        "## Read Data from file"
      ]
    },
    {
      "cell_type": "code",
      "metadata": {
        "colab": {
          "base_uri": "https://localhost:8080/"
        },
        "id": "7YeAnaVoDKRl",
        "outputId": "202efdf7-5dc1-411a-866c-23e21ae64a99"
      },
      "source": [
        "process_data = ProcessData()\r\n",
        "x_train, y_train = process_data.read_train_csv(train_path)\r\n",
        "x_test, y_test = process_data.read_test_csv(test_path, labels_test_path)\r\n",
        "print(x_train[0])"
      ],
      "execution_count": null,
      "outputs": [
        {
          "output_type": "stream",
          "text": [
            "From: lerxst@wam.umd.edu (where's my thing)\r\n",
            "Subject: WHAT car is this!?\r\n",
            "Nntp-Posting-Host: rac3.wam.umd.edu\r\n",
            "Organization: University of Maryland, College Park\r\n",
            "Lines: 15\r\n",
            "\r\n",
            " I was wondering if anyone out there could enlighten me on this car I saw\r\n",
            "the other day. It was a 2-door sports car, looked to be from the late 60s/\r\n",
            "early 70s. It was called a Bricklin. The doors were really small. In addition,\r\n",
            "the front bumper was separate from the rest of the body. This is \r\n",
            "all I know. If anyone can tellme a model name, engine specs, years\r\n",
            "of production, where this car is made, history, or whatever info you\r\n",
            "have on this funky looking car, please e-mail.\r\n",
            "\r\n",
            "Thanks,\r\n",
            "- IL\r\n",
            "   ---- brought to you by your neighborhood Lerxst ----\r\n",
            "\r\n",
            "\r\n",
            "\r\n",
            "\r\n",
            "\n"
          ],
          "name": "stdout"
        }
      ]
    },
    {
      "cell_type": "markdown",
      "metadata": {
        "id": "T0pn_rNU-GKi"
      },
      "source": [
        "## Plot distribution of training set"
      ]
    },
    {
      "cell_type": "code",
      "metadata": {
        "colab": {
          "base_uri": "https://localhost:8080/",
          "height": 607
        },
        "id": "N4yDR2qC75R_",
        "outputId": "f2494c72-5293-4efb-f2e3-1dfc960a653c"
      },
      "source": [
        "labels = ['alt.atheism', 'comp.graphics', 'comp.os.ms-windows.misc', 'comp.sys.ibm.pc.hardware',\r\n",
        "          'comp.sys.mac.hardware', 'comp.windows.x', 'misc.forsale', 'rec.autos', 'rec.motorcycles',\r\n",
        "          'rec.sport.baseball', 'rec.sport.hockey', 'sci.crypt', 'sci.electronics', 'sci.med',\r\n",
        "          'sci.space', 'soc.religion.christian', 'talk.politics.guns', 'talk.politics.mideast',\r\n",
        "          'talk.politics.misc', 'talk.religion.misc']\r\n",
        "labels_count = np.unique(y_train, return_counts=True)\r\n",
        "fig, ax = plt.subplots(figsize=(20, 8))\r\n",
        "ax.bar(labels_count[0], labels_count[1], 0.5, tick_label=labels, color='green')\r\n",
        "ax.set_xticklabels(labels, Rotation=90)\r\n",
        "plt.show()"
      ],
      "execution_count": null,
      "outputs": [
        {
          "output_type": "display_data",
          "data": {
            "image/png": "[encoded data removed]",
            "text/plain": [
              "<Figure size 1440x576 with 1 Axes>"
            ]
          },
          "metadata": {
            "tags": [],
            "needs_background": "light"
          }
        }
      ]
    },
    {
      "cell_type": "markdown",
      "metadata": {
        "id": "iGfv7FlI-PPy"
      },
      "source": [
        "## Plot distribution of test set"
      ]
    },
    {
      "cell_type": "code",
      "metadata": {
        "colab": {
          "base_uri": "https://localhost:8080/",
          "height": 607
        },
        "id": "GhruIdEz-SEx",
        "outputId": "97d84951-6d3a-4a00-e9b3-707e114b5a02"
      },
      "source": [
        "labels_count = np.unique(y_test, return_counts=True)\r\n",
        "fig, ax = plt.subplots(figsize=(20, 8))\r\n",
        "ax.bar(labels_count[0], labels_count[1], 0.5, tick_label=labels, color='green')\r\n",
        "ax.set_xticklabels(labels, Rotation=90)\r\n",
        "plt.show()"
      ],
      "execution_count": null,
      "outputs": [
        {
          "output_type": "display_data",
          "data": {
            "image/png": "[encoded data removed]",
            "text/plain": [
              "<Figure size 1440x576 with 1 Axes>"
            ]
          },
          "metadata": {
            "tags": [],
            "needs_background": "light"
          }
        }
      ]
    },
    {
      "cell_type": "markdown",
      "metadata": {
        "id": "wux9U4KUDOEv"
      },
      "source": [
        "## Word Embbeding using Word2Vec"
      ]
    },
    {
      "cell_type": "markdown",
      "metadata": {
        "id": "CpG8czINxfyf"
      },
      "source": [
        "We will use gensim library to implement Word2Vec for all words in our Corpus.\r\n",
        "\r\n",
        "Typically, we have 3 ways to implement Word2Vec for sentences of paragraph:\r\n",
        "\r\n",
        "* Average\r\n",
        "* Weighted Count Vectorizer\r\n",
        "* Weighted Tf-idf Vectorizer\r\n",
        "\r\n",
        "In this project we'll take the naive approach and use an average of all the words in the document.\r\n"
      ]
    },
    {
      "cell_type": "code",
      "metadata": {
        "colab": {
          "base_uri": "https://localhost:8080/"
        },
        "id": "hFL05IS7DN0R",
        "outputId": "cec81a0e-3856-42f9-8772-66c79089abb2"
      },
      "source": [
        "if SAVE_WORD2VEC:\r\n",
        "    word_embedding = WordEmbedding()\r\n",
        "    x_train_embedded = word_embedding.doc2vec(x_train)\r\n",
        "    x_test_embedded = word_embedding.fit_transform(x_test)\r\n",
        "    with open(\"/content/drive/MyDrive/BAP Colab/LogisticRegression/all_words.pickle\", \"wb\") as handle:\r\n",
        "        pickle.dump([x_train_embedded, x_test_embedded], handle, protocol=pickle.HIGHEST_PROTOCOL)\r\n",
        "    print(\"save file successed!\")\r\n",
        "else:\r\n",
        "    with open(\"/content/drive/MyDrive/BAP Colab/LogisticRegression/all_words.pickle\", \"rb\") as handle:\r\n",
        "        x_train_embedded, x_test_embedded = pickle.load(handle)"
      ],
      "execution_count": null,
      "outputs": [
        {
          "output_type": "stream",
          "text": [
            "100%|██████████| 11314/11314 [00:47<00:00, 238.77it/s]\n",
            "12it [00:00, 104.75it/s]"
          ],
          "name": "stderr"
        },
        {
          "output_type": "stream",
          "text": [
            "time word2vec 275.42601323127747\n"
          ],
          "name": "stdout"
        },
        {
          "output_type": "stream",
          "text": [
            "11314it [02:47, 67.35it/s]\n",
            "100%|██████████| 7532/7532 [02:35<00:00, 48.43it/s]\n"
          ],
          "name": "stderr"
        },
        {
          "output_type": "stream",
          "text": [
            "save file successed!\n"
          ],
          "name": "stdout"
        }
      ]
    },
    {
      "cell_type": "markdown",
      "metadata": {
        "id": "zv52aDpFDVUk"
      },
      "source": [
        "## Create and Training model"
      ]
    },
    {
      "cell_type": "code",
      "metadata": {
        "id": "3WOvJPFpDbB8",
        "colab": {
          "base_uri": "https://localhost:8080/"
        },
        "outputId": "8e88947b-7db5-43d6-c032-3017d4713622"
      },
      "source": [
        "if SAVE_MODEL == True:\r\n",
        "    clf = MyLogisticRegression(max_iter=MAX_ITER, lr=LEARNING_RATE)\r\n",
        "    total_lost = clf.fit(x_train_embedded, y_train)\r\n",
        "    with open(\"/content/drive/MyDrive/BAP Colab/LogisticRegression/model.pickle\", \"wb\") as handle:\r\n",
        "        pickle.dump([clf, total_lost], handle, protocol=pickle.HIGHEST_PROTOCOL)\r\n",
        "else:\r\n",
        "    with open(\"/content/drive/MyDrive/BAP Colab/LogisticRegression/model.pickle\", \"rb\") as handle:\r\n",
        "        clf, total_lost = pickle.load(handle)"
      ],
      "execution_count": null,
      "outputs": [
        {
          "output_type": "stream",
          "text": [
            "100%|██████████| 2500/2500 [02:45<00:00, 15.07it/s]\n"
          ],
          "name": "stderr"
        }
      ]
    },
    {
      "cell_type": "markdown",
      "metadata": {
        "id": "47I6pDKeD-i7"
      },
      "source": [
        "Plot loss during training\r\n",
        "In this project we will train model with 2500 epochs and plot the loss value after each epochs using Matplotlib library."
      ]
    },
    {
      "cell_type": "code",
      "metadata": {
        "id": "LeUrWX1jECOB",
        "colab": {
          "base_uri": "https://localhost:8080/",
          "height": 388
        },
        "outputId": "e04c479a-c784-4edd-8e07-79f16423cc69"
      },
      "source": [
        "clf.plot_loss(total_lost)"
      ],
      "execution_count": null,
      "outputs": [
        {
          "output_type": "display_data",
          "data": {
            "image/png": "[encoded data removed]",
            "text/plain": [
              "<Figure size 1080x432 with 1 Axes>"
            ]
          },
          "metadata": {
            "tags": [],
            "needs_background": "light"
          }
        }
      ]
    },
    {
      "cell_type": "markdown",
      "metadata": {
        "id": "Eml0wSCW5ky9"
      },
      "source": [
        "I tried with many difference value of hyperparameters like learning rate, number of epochs,...\r\n",
        "We see that loss decreases after epochs and that is to be expected of machine learning models."
      ]
    },
    {
      "cell_type": "markdown",
      "metadata": {
        "id": "OvPAGwZQDf4y"
      },
      "source": [
        "## Evaluation Model"
      ]
    },
    {
      "cell_type": "markdown",
      "metadata": {
        "id": "KxrCXQ9gDnFD"
      },
      "source": [
        "Predict for training set"
      ]
    },
    {
      "cell_type": "code",
      "metadata": {
        "id": "D93E1KSeDmXV",
        "colab": {
          "base_uri": "https://localhost:8080/"
        },
        "outputId": "bd013f29-8084-4a83-aac6-49f30807f2b0"
      },
      "source": [
        "y_pred = clf.predict(x_train_embedded)\r\n",
        "acc = clf.accuracy_score(y_train, y_pred)\r\n",
        "print(f'accuracy with {MAX_ITER} epochs and {LEARNING_RATE} learning rate = ', acc)"
      ],
      "execution_count": null,
      "outputs": [
        {
          "output_type": "stream",
          "text": [
            "accuracy with 2500 epochs and 1e-05 learning rate =  0.9182428849213364\n"
          ],
          "name": "stdout"
        }
      ]
    },
    {
      "cell_type": "code",
      "metadata": {
        "id": "PlvDxB5jD586",
        "colab": {
          "base_uri": "https://localhost:8080/"
        },
        "outputId": "62416777-6da2-4d16-ed2a-a951058ef28f"
      },
      "source": [
        "print(classification_report(y_train, y_pred))"
      ],
      "execution_count": null,
      "outputs": [
        {
          "output_type": "stream",
          "text": [
            "              precision    recall  f1-score   support\n",
            "\n",
            "           0       0.93      0.92      0.92       480\n",
            "           1       0.86      0.87      0.86       584\n",
            "           2       0.84      0.86      0.85       591\n",
            "           3       0.82      0.80      0.81       590\n",
            "           4       0.88      0.88      0.88       578\n",
            "           5       0.92      0.92      0.92       593\n",
            "           6       0.88      0.90      0.89       585\n",
            "           7       0.91      0.93      0.92       594\n",
            "           8       0.96      0.96      0.96       598\n",
            "           9       0.98      0.98      0.98       597\n",
            "          10       0.99      0.99      0.99       600\n",
            "          11       0.97      0.97      0.97       595\n",
            "          12       0.88      0.83      0.86       591\n",
            "          13       0.97      0.97      0.97       594\n",
            "          14       0.98      0.97      0.97       593\n",
            "          15       0.90      0.96      0.93       599\n",
            "          16       0.94      0.96      0.95       546\n",
            "          17       0.97      0.98      0.98       564\n",
            "          18       0.92      0.91      0.91       465\n",
            "          19       0.88      0.74      0.81       377\n",
            "\n",
            "    accuracy                           0.92     11314\n",
            "   macro avg       0.92      0.92      0.92     11314\n",
            "weighted avg       0.92      0.92      0.92     11314\n",
            "\n"
          ],
          "name": "stdout"
        }
      ]
    },
    {
      "cell_type": "markdown",
      "metadata": {
        "id": "75WzAtRq_kuv"
      },
      "source": [
        "Predict for testing set"
      ]
    },
    {
      "cell_type": "code",
      "metadata": {
        "id": "luRgQuSr_uti",
        "colab": {
          "base_uri": "https://localhost:8080/"
        },
        "outputId": "3137db27-601d-4c50-d873-a20dcf8ece91"
      },
      "source": [
        "y_pred = clf.predict(x_test_embedded)\r\n",
        "acc = clf.accuracy_score(y_test, y_pred)\r\n",
        "print(f'accuracy of testing with {MAX_ITER} epochs and {LEARNING_RATE} learning rate = ', acc)"
      ],
      "execution_count": null,
      "outputs": [
        {
          "output_type": "stream",
          "text": [
            "accuracy of testing with 2500 epochs and 1e-05 learning rate =  0.7896972915560276\n"
          ],
          "name": "stdout"
        }
      ]
    },
    {
      "cell_type": "code",
      "metadata": {
        "id": "DwyIT8Vy_em0",
        "colab": {
          "base_uri": "https://localhost:8080/"
        },
        "outputId": "bd47c13e-8665-466c-8836-ecee20a286f0"
      },
      "source": [
        "print(classification_report(y_test, y_pred))"
      ],
      "execution_count": null,
      "outputs": [
        {
          "output_type": "stream",
          "text": [
            "              precision    recall  f1-score   support\n",
            "\n",
            "           0       0.74      0.70      0.72       319\n",
            "           1       0.69      0.70      0.70       389\n",
            "           2       0.69      0.65      0.67       394\n",
            "           3       0.65      0.66      0.65       392\n",
            "           4       0.73      0.77      0.75       385\n",
            "           5       0.82      0.73      0.77       395\n",
            "           6       0.78      0.82      0.80       390\n",
            "           7       0.86      0.87      0.87       396\n",
            "           8       0.94      0.90      0.92       398\n",
            "           9       0.92      0.89      0.91       397\n",
            "          10       0.92      0.96      0.94       399\n",
            "          11       0.91      0.91      0.91       396\n",
            "          12       0.66      0.67      0.66       393\n",
            "          13       0.87      0.84      0.85       396\n",
            "          14       0.90      0.91      0.90       394\n",
            "          15       0.76      0.87      0.81       398\n",
            "          16       0.70      0.86      0.77       364\n",
            "          17       0.95      0.86      0.91       376\n",
            "          18       0.65      0.56      0.60       310\n",
            "          19       0.57      0.49      0.52       251\n",
            "\n",
            "    accuracy                           0.79      7532\n",
            "   macro avg       0.78      0.78      0.78      7532\n",
            "weighted avg       0.79      0.79      0.79      7532\n",
            "\n"
          ],
          "name": "stdout"
        }
      ]
    }
  ]
}